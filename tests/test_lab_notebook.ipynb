{
 "cells": [
  {
   "cell_type": "markdown",
   "id": "742edf3a-c9b0-4834-9f54-f37396237fed",
   "metadata": {},
   "source": [
    "# Dry run the tests here, before copying into test file"
   ]
  },
  {
   "cell_type": "code",
   "execution_count": 1,
   "id": "10c7e507-0f42-48de-9f58-12cffffe43ee",
   "metadata": {},
   "outputs": [],
   "source": [
    "import xso"
   ]
  },
  {
   "cell_type": "code",
   "execution_count": 2,
   "id": "c8b83671-f11c-4276-88e2-0560cfbc5a32",
   "metadata": {},
   "outputs": [],
   "source": [
    "import xsimlab as xs"
   ]
  },
  {
   "cell_type": "code",
   "execution_count": 3,
   "id": "61ef6397-83a6-4954-ad7f-48027a198ec1",
   "metadata": {},
   "outputs": [],
   "source": [
    "from xso.main import Backend"
   ]
  },
  {
   "cell_type": "code",
   "execution_count": 4,
   "id": "217f9058-6ae8-433f-9a01-bb64083b2b52",
   "metadata": {},
   "outputs": [
    {
     "data": {
      "text/plain": [
       "<xso.main.Backend at 0x7fcf60367670>"
      ]
     },
     "execution_count": 4,
     "metadata": {},
     "output_type": "execute_result"
    }
   ],
   "source": [
    "bcknd = Backend(solver_type='stepwise')\n",
    "bcknd"
   ]
  },
  {
   "cell_type": "code",
   "execution_count": 5,
   "id": "b3416d30-1eb2-46f0-8db8-5008d23fdeb7",
   "metadata": {},
   "outputs": [
    {
     "ename": "AttributeError",
     "evalue": "'Backend' object has no attribute 'm'",
     "output_type": "error",
     "traceback": [
      "\u001b[0;31m---------------------------------------------------------------------------\u001b[0m",
      "\u001b[0;31mAttributeError\u001b[0m                            Traceback (most recent call last)",
      "Cell \u001b[0;32mIn [5], line 2\u001b[0m\n\u001b[1;32m      1\u001b[0m bcknd2 \u001b[38;5;241m=\u001b[39m Backend(solver_type\u001b[38;5;241m=\u001b[39m\u001b[38;5;124m'\u001b[39m\u001b[38;5;124mstepwise\u001b[39m\u001b[38;5;124m'\u001b[39m)\n\u001b[0;32m----> 2\u001b[0m \u001b[43mbcknd2\u001b[49m\u001b[43m \u001b[49m\u001b[38;5;241;43m==\u001b[39;49m\u001b[43m \u001b[49m\u001b[43mbcknd\u001b[49m\n",
      "File \u001b[0;32m<attrs generated eq xso.main.Backend>:6\u001b[0m, in \u001b[0;36m__eq__\u001b[0;34m(self, other)\u001b[0m\n\u001b[1;32m      2\u001b[0m \u001b[38;5;28;01mif\u001b[39;00m other\u001b[38;5;241m.\u001b[39m\u001b[38;5;18m__class__\u001b[39m \u001b[38;5;129;01mis\u001b[39;00m \u001b[38;5;129;01mnot\u001b[39;00m \u001b[38;5;28mself\u001b[39m\u001b[38;5;241m.\u001b[39m\u001b[38;5;18m__class__\u001b[39m:\n\u001b[1;32m      3\u001b[0m     \u001b[38;5;28;01mreturn\u001b[39;00m \u001b[38;5;28mNotImplemented\u001b[39m\n\u001b[1;32m      4\u001b[0m \u001b[38;5;28;01mreturn\u001b[39;00m  (\n\u001b[1;32m      5\u001b[0m     \u001b[38;5;28mself\u001b[39m\u001b[38;5;241m.\u001b[39msolver_type,\n\u001b[0;32m----> 6\u001b[0m     \u001b[38;5;28;43mself\u001b[39;49m\u001b[38;5;241;43m.\u001b[39;49m\u001b[43mm\u001b[49m,\n\u001b[1;32m      7\u001b[0m ) \u001b[38;5;241m==\u001b[39m (\n\u001b[1;32m      8\u001b[0m     other\u001b[38;5;241m.\u001b[39msolver_type,\n\u001b[1;32m      9\u001b[0m     other\u001b[38;5;241m.\u001b[39mm,\n\u001b[1;32m     10\u001b[0m )\n",
      "\u001b[0;31mAttributeError\u001b[0m: 'Backend' object has no attribute 'm'"
     ]
    }
   ],
   "source": []
  },
  {
   "cell_type": "code",
   "execution_count": 131,
   "id": "d11c93ba-98a5-4b95-98c8-bf3ee6f93899",
   "metadata": {},
   "outputs": [
    {
     "name": "stdout",
     "output_type": "stream",
     "text": [
      "initializing model backend\n",
      "finalizing: cleanup\n"
     ]
    },
    {
     "ename": "TypeError",
     "evalue": "unsupported operand type(s) for -: 'float' and 'NoneType'",
     "output_type": "error",
     "traceback": [
      "\u001b[0;31m---------------------------------------------------------------------------\u001b[0m",
      "\u001b[0;31mTypeError\u001b[0m                                 Traceback (most recent call last)",
      "Cell \u001b[0;32mIn [131], line 3\u001b[0m\n\u001b[1;32m      1\u001b[0m bcknd\u001b[38;5;241m.\u001b[39minitialize()\n\u001b[1;32m      2\u001b[0m \u001b[38;5;66;03m#bcknd.m.assemble()\u001b[39;00m\n\u001b[0;32m----> 3\u001b[0m \u001b[43mbcknd\u001b[49m\u001b[38;5;241;43m.\u001b[39;49m\u001b[43mfinalize\u001b[49m\u001b[43m(\u001b[49m\u001b[43m)\u001b[49m\n",
      "File \u001b[0;32m~/Documents/GitHub/xarray-simlab-ode/src/xso/main.py:19\u001b[0m, in \u001b[0;36mBackend.finalize\u001b[0;34m(self)\u001b[0m\n\u001b[1;32m     17\u001b[0m \u001b[38;5;28;01mdef\u001b[39;00m \u001b[38;5;21mfinalize\u001b[39m(\u001b[38;5;28mself\u001b[39m):\n\u001b[1;32m     18\u001b[0m     \u001b[38;5;28mprint\u001b[39m(\u001b[38;5;124m'\u001b[39m\u001b[38;5;124mfinalizing: cleanup\u001b[39m\u001b[38;5;124m'\u001b[39m)\n\u001b[0;32m---> 19\u001b[0m     \u001b[38;5;28;43mself\u001b[39;49m\u001b[38;5;241;43m.\u001b[39;49m\u001b[43mm\u001b[49m\u001b[38;5;241;43m.\u001b[39;49m\u001b[43mcleanup\u001b[49m\u001b[43m(\u001b[49m\u001b[43m)\u001b[49m\n",
      "File \u001b[0;32m~/Documents/GitHub/xarray-simlab-ode/src/xso/core.py:82\u001b[0m, in \u001b[0;36mXSOCore.cleanup\u001b[0;34m(self)\u001b[0m\n\u001b[1;32m     80\u001b[0m \u001b[38;5;28;01mdef\u001b[39;00m \u001b[38;5;21mcleanup\u001b[39m(\u001b[38;5;28mself\u001b[39m):\n\u001b[1;32m     81\u001b[0m     \u001b[38;5;28mself\u001b[39m\u001b[38;5;241m.\u001b[39msolve_end \u001b[38;5;241m=\u001b[39m tm\u001b[38;5;241m.\u001b[39mtime()\n\u001b[0;32m---> 82\u001b[0m     \u001b[38;5;28mprint\u001b[39m(\u001b[38;5;124mf\u001b[39m\u001b[38;5;124m\"\u001b[39m\u001b[38;5;124mModel was solved in \u001b[39m\u001b[38;5;132;01m{\u001b[39;00m\u001b[38;5;28mround\u001b[39m(\u001b[38;5;28mself\u001b[39m\u001b[38;5;241m.\u001b[39msolve_end \u001b[38;5;241m-\u001b[39m \u001b[38;5;28mself\u001b[39m\u001b[38;5;241m.\u001b[39msolve_start, \u001b[38;5;241m5\u001b[39m)\u001b[38;5;132;01m}\u001b[39;00m\u001b[38;5;124m seconds\u001b[39m\u001b[38;5;124m\"\u001b[39m)\n\u001b[1;32m     83\u001b[0m     \u001b[38;5;28mself\u001b[39m\u001b[38;5;241m.\u001b[39mSolver\u001b[38;5;241m.\u001b[39mcleanup()\n",
      "\u001b[0;31mTypeError\u001b[0m: unsupported operand type(s) for -: 'float' and 'NoneType'"
     ]
    }
   ],
   "source": [
    "bcknd.initialize()\n",
    "#bcknd.m.assemble()\n",
    "bcknd.finalize()"
   ]
  },
  {
   "cell_type": "code",
   "execution_count": 130,
   "id": "bfc150af-bd8c-459c-ad06-32b99ef8d763",
   "metadata": {},
   "outputs": [
    {
     "data": {
      "text/plain": [
       "<xso.solvers.StepwiseSolver at 0x7fb321e6b5b0>"
      ]
     },
     "execution_count": 130,
     "metadata": {},
     "output_type": "execute_result"
    }
   ],
   "source": [
    "bcknd.m.Solver"
   ]
  },
  {
   "cell_type": "code",
   "execution_count": null,
   "id": "16057979-4dca-4907-b141-bd6007cd25d7",
   "metadata": {},
   "outputs": [],
   "source": []
  }
 ],
 "metadata": {
  "kernelspec": {
   "display_name": "Python 3 (ipykernel)",
   "language": "python",
   "name": "python3"
  },
  "language_info": {
   "codemirror_mode": {
    "name": "ipython",
    "version": 3
   },
   "file_extension": ".py",
   "mimetype": "text/x-python",
   "name": "python",
   "nbconvert_exporter": "python",
   "pygments_lexer": "ipython3",
   "version": "3.10.6"
  }
 },
 "nbformat": 4,
 "nbformat_minor": 5
}
