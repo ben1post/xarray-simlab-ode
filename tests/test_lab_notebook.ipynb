{
 "cells": [
  {
   "cell_type": "markdown",
   "id": "742edf3a-c9b0-4834-9f54-f37396237fed",
   "metadata": {},
   "source": [
    "# Dry run the tests here, before copying into test file"
   ]
  },
  {
   "cell_type": "code",
   "execution_count": 1,
   "id": "10c7e507-0f42-48de-9f58-12cffffe43ee",
   "metadata": {},
   "outputs": [],
   "source": [
    "import xso"
   ]
  },
  {
   "cell_type": "code",
   "execution_count": 2,
   "id": "c8b83671-f11c-4276-88e2-0560cfbc5a32",
   "metadata": {},
   "outputs": [],
   "source": [
    "import xsimlab as xs"
   ]
  },
  {
   "cell_type": "code",
   "execution_count": 4,
   "id": "61ef6397-83a6-4954-ad7f-48027a198ec1",
   "metadata": {},
   "outputs": [],
   "source": [
    "from xso.backendcomps import Backend"
   ]
  },
  {
   "cell_type": "code",
   "execution_count": 5,
   "id": "217f9058-6ae8-433f-9a01-bb64083b2b52",
   "metadata": {},
   "outputs": [
    {
     "data": {
      "text/plain": [
       "<xso.backendcomps.Backend at 0x7f0dba043670>"
      ]
     },
     "execution_count": 5,
     "metadata": {},
     "output_type": "execute_result"
    }
   ],
   "source": [
    "bcknd = Backend(solver_type='stepwise')\n",
    "bcknd"
   ]
  },
  {
   "cell_type": "code",
   "execution_count": null,
   "id": "11256301-c781-4637-8dea-7b38e1d40663",
   "metadata": {},
   "outputs": [],
   "source": []
  },
  {
   "cell_type": "code",
   "execution_count": 8,
   "id": "b3416d30-1eb2-46f0-8db8-5008d23fdeb7",
   "metadata": {},
   "outputs": [
    {
     "data": {
      "text/plain": [
       "<bound method object.hello of <__main__.object object at 0x7fb1c2bac070>>"
      ]
     },
     "execution_count": 8,
     "metadata": {},
     "output_type": "execute_result"
    }
   ],
   "source": [
    "class object:\n",
    "    def hello():\n",
    "        print(\"hello\")\n",
    "        \n",
    "Obj = object()\n",
    "\n",
    "getattr(Obj, \"hello\")"
   ]
  },
  {
   "cell_type": "code",
   "execution_count": 133,
   "id": "ca28fafc-df68-44d4-ba61-1745966d9eb9",
   "metadata": {},
   "outputs": [],
   "source": [
    "\n",
    "\n",
    "class objectabc:\n",
    "    \n",
    "\n",
    "    def hello(self, model):\n",
    "        print(self)\n",
    "        print(\"H\")\n",
    "    \n",
    "    \n",
    "        \n",
    "class object2:\n",
    "    \n",
    "    def __init__(self):\n",
    "        self.x = objectabc\n",
    "        \n",
    "    def hullo(self):\n",
    "        return self.x.hello(self, self)\n",
    "    \n",
    "    class hell:\n",
    "        \n",
    "        def h():\n",
    "            print(\"oh no\")"
   ]
  },
  {
   "cell_type": "code",
   "execution_count": 134,
   "id": "e62c2108-5616-4b28-a7cc-62392fa2fad0",
   "metadata": {},
   "outputs": [],
   "source": [
    "a = object2()"
   ]
  },
  {
   "cell_type": "code",
   "execution_count": 135,
   "id": "c26c59ef-7dd0-4eee-ad84-9831433f56c8",
   "metadata": {},
   "outputs": [
    {
     "name": "stdout",
     "output_type": "stream",
     "text": [
      "oh no\n"
     ]
    }
   ],
   "source": [
    "a.hell.h()"
   ]
  },
  {
   "cell_type": "code",
   "execution_count": 136,
   "id": "58c2df1d-7ffd-4e97-91e8-6a0c0654d869",
   "metadata": {},
   "outputs": [
    {
     "name": "stdout",
     "output_type": "stream",
     "text": [
      "<__main__.object2 object at 0x7fb1c0f31780>\n",
      "H\n"
     ]
    }
   ],
   "source": [
    "a.hullo()"
   ]
  },
  {
   "cell_type": "code",
   "execution_count": 13,
   "id": "58eaeee7-6a31-4a78-8d1f-45fc8f40d80e",
   "metadata": {},
   "outputs": [
    {
     "ename": "SyntaxError",
     "evalue": "expected ':' (677810451.py, line 1)",
     "output_type": "error",
     "traceback": [
      "\u001b[0;36m  Cell \u001b[0;32mIn [13], line 1\u001b[0;36m\u001b[0m\n\u001b[0;31m    try getattr(Obj, \"hello\"):\u001b[0m\n\u001b[0m        ^\u001b[0m\n\u001b[0;31mSyntaxError\u001b[0m\u001b[0;31m:\u001b[0m expected ':'\n"
     ]
    }
   ],
   "source": [
    "try getattr(Obj, \"hello\"):\n",
    "    Obj.hello()\n",
    "    \n",
    "except AttributeError:\n",
    "    print(\"goodbye\")\n",
    "    "
   ]
  },
  {
   "cell_type": "code",
   "execution_count": 5,
   "id": "d11c93ba-98a5-4b95-98c8-bf3ee6f93899",
   "metadata": {},
   "outputs": [
    {
     "name": "stdout",
     "output_type": "stream",
     "text": [
      "initializing model backend\n",
      "finalizing: cleanup\n"
     ]
    },
    {
     "ename": "TypeError",
     "evalue": "unsupported operand type(s) for -: 'float' and 'NoneType'",
     "output_type": "error",
     "traceback": [
      "\u001b[0;31m---------------------------------------------------------------------------\u001b[0m",
      "\u001b[0;31mTypeError\u001b[0m                                 Traceback (most recent call last)",
      "Cell \u001b[0;32mIn [5], line 3\u001b[0m\n\u001b[1;32m      1\u001b[0m bcknd\u001b[38;5;241m.\u001b[39minitialize()\n\u001b[1;32m      2\u001b[0m \u001b[38;5;66;03m#bcknd.m.assemble()\u001b[39;00m\n\u001b[0;32m----> 3\u001b[0m \u001b[43mbcknd\u001b[49m\u001b[38;5;241;43m.\u001b[39;49m\u001b[43mfinalize\u001b[49m\u001b[43m(\u001b[49m\u001b[43m)\u001b[49m\n",
      "File \u001b[0;32m~/Documents/GitHub/xarray-simlab-ode/src/xso/main.py:19\u001b[0m, in \u001b[0;36mBackend.finalize\u001b[0;34m(self)\u001b[0m\n\u001b[1;32m     17\u001b[0m \u001b[38;5;28;01mdef\u001b[39;00m \u001b[38;5;21mfinalize\u001b[39m(\u001b[38;5;28mself\u001b[39m):\n\u001b[1;32m     18\u001b[0m     \u001b[38;5;28mprint\u001b[39m(\u001b[38;5;124m'\u001b[39m\u001b[38;5;124mfinalizing: cleanup\u001b[39m\u001b[38;5;124m'\u001b[39m)\n\u001b[0;32m---> 19\u001b[0m     \u001b[38;5;28;43mself\u001b[39;49m\u001b[38;5;241;43m.\u001b[39;49m\u001b[43mm\u001b[49m\u001b[38;5;241;43m.\u001b[39;49m\u001b[43mcleanup\u001b[49m\u001b[43m(\u001b[49m\u001b[43m)\u001b[49m\n",
      "File \u001b[0;32m~/Documents/GitHub/xarray-simlab-ode/src/xso/core.py:109\u001b[0m, in \u001b[0;36mXSOCore.cleanup\u001b[0;34m(self)\u001b[0m\n\u001b[1;32m    107\u001b[0m \u001b[38;5;28;01mdef\u001b[39;00m \u001b[38;5;21mcleanup\u001b[39m(\u001b[38;5;28mself\u001b[39m):\n\u001b[1;32m    108\u001b[0m     \u001b[38;5;28mself\u001b[39m\u001b[38;5;241m.\u001b[39msolve_end \u001b[38;5;241m=\u001b[39m tm\u001b[38;5;241m.\u001b[39mtime()\n\u001b[0;32m--> 109\u001b[0m     \u001b[38;5;28mprint\u001b[39m(\u001b[38;5;124mf\u001b[39m\u001b[38;5;124m\"\u001b[39m\u001b[38;5;124mModel was solved in \u001b[39m\u001b[38;5;132;01m{\u001b[39;00m\u001b[38;5;28mround\u001b[39m(\u001b[38;5;28mself\u001b[39m\u001b[38;5;241m.\u001b[39msolve_end \u001b[38;5;241m-\u001b[39m \u001b[38;5;28mself\u001b[39m\u001b[38;5;241m.\u001b[39msolve_start, \u001b[38;5;241m5\u001b[39m)\u001b[38;5;132;01m}\u001b[39;00m\u001b[38;5;124m seconds\u001b[39m\u001b[38;5;124m\"\u001b[39m)\n\u001b[1;32m    110\u001b[0m     \u001b[38;5;28mself\u001b[39m\u001b[38;5;241m.\u001b[39mSolver\u001b[38;5;241m.\u001b[39mcleanup()\n",
      "\u001b[0;31mTypeError\u001b[0m: unsupported operand type(s) for -: 'float' and 'NoneType'"
     ]
    }
   ],
   "source": [
    "bcknd.initialize()\n",
    "#bcknd.m.assemble()\n",
    "bcknd.finalize()"
   ]
  },
  {
   "cell_type": "code",
   "execution_count": 6,
   "id": "bfc150af-bd8c-459c-ad06-32b99ef8d763",
   "metadata": {},
   "outputs": [
    {
     "data": {
      "text/plain": [
       "<xso.solvers.StepwiseSolver at 0x7fb1c2baf8b0>"
      ]
     },
     "execution_count": 6,
     "metadata": {},
     "output_type": "execute_result"
    }
   ],
   "source": [
    "bcknd.m.Solver"
   ]
  },
  {
   "cell_type": "code",
   "execution_count": null,
   "id": "16057979-4dca-4907-b141-bd6007cd25d7",
   "metadata": {},
   "outputs": [],
   "source": []
  }
 ],
 "metadata": {
  "kernelspec": {
   "display_name": "Python 3 (ipykernel)",
   "language": "python",
   "name": "python3"
  },
  "language_info": {
   "codemirror_mode": {
    "name": "ipython",
    "version": 3
   },
   "file_extension": ".py",
   "mimetype": "text/x-python",
   "name": "python",
   "nbconvert_exporter": "python",
   "pygments_lexer": "ipython3",
   "version": "3.10.6"
  }
 },
 "nbformat": 4,
 "nbformat_minor": 5
}
