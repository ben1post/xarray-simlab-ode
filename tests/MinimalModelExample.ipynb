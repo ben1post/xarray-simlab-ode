{
 "cells": [
  {
   "cell_type": "markdown",
   "id": "16b52141-9bfe-4b28-aa5c-961d95e6392d",
   "metadata": {},
   "source": [
    "# Implement Minimal Model Example\n",
    "Test if model in README.md actually works"
   ]
  },
  {
   "cell_type": "code",
   "execution_count": 1,
   "id": "5474196e-0569-4906-85fe-0a3521234778",
   "metadata": {},
   "outputs": [
    {
     "name": "stdout",
     "output_type": "stream",
     "text": [
      "initializing model backend\n",
      "Initializing Model Time\n",
      "Within Solver, var_in_dict: defaultdict(None, {'time': 0.0})\n",
      "Initializing component Var\n",
      "Initializing component Growth\n",
      "Within Solver, var_in_dict: defaultdict(None, {'time': 0.0, 'X': 1.0, 'Time_time_flux': 1.0})\n",
      "assembling model\n",
      "SOLVER : <xso.solvers.StepwiseSolver object at 0x7fdc43c5dc30>\n",
      "Model is assembled:\n",
      "Model contains: \n",
      "Variables:['time', 'X'] \n",
      "Parameters:['Growth_rate'] \n",
      "Forcings:[] \n",
      "Fluxes:['Time_time_flux', 'Growth_growth'] \n",
      "Full Model Dimensions:[('time', None), ('X', None), ('Time_time_flux', None), ('Growth_growth', None)] \n",
      "\n",
      "finalizing: cleanup\n",
      "Model was solved in 0.00359 seconds\n",
      "<xarray.Dataset>\n",
      "Dimensions:               (time: 9, input_time: 9, clock: 9)\n",
      "Coordinates:\n",
      "  * clock                 (clock) int64 1 2 3 4 5 6 7 8 9\n",
      "Dimensions without coordinates: time, input_time\n",
      "Data variables:\n",
      "    Core__solver_type     <U8 'stepwise'\n",
      "    Growth__growth_value  (time) float64 1.0 1.0 2.0 4.0 ... 32.0 64.0 128.0\n",
      "    Growth__rate          float64 1.0\n",
      "    Growth__var_ext       <U1 'X'\n",
      "    Time__time            (input_time) int64 1 2 3 4 5 6 7 8 9\n",
      "    Var__var_init         int64 1\n",
      "    Var__var_label        <U1 'X'\n",
      "    Var__var_value        (time) float64 1.0 2.0 4.0 8.0 ... 64.0 128.0 256.0\n",
      "initializing model backend\n",
      "Initializing Model Time\n",
      "Initializing component Var\n",
      "Initializing component Growth\n",
      "assembling model\n",
      "SOLVER : <xso.solvers.ODEINTSolver object at 0x7fdc43b2d3f0>\n",
      "Model is assembled:\n",
      "Model contains: \n",
      "Variables:['time', 'X'] \n",
      "Parameters:['Growth_rate'] \n",
      "Forcings:[] \n",
      "Fluxes:['Time_time_flux', 'Growth_growth'] \n",
      "Full Model Dimensions:[('time', None), ('X', 2), ('Time_time_flux', None), ('Growth_growth', 2)] \n",
      "\n",
      "finalizing: cleanup\n",
      "Model was solved in 0.00445 seconds\n",
      "<xarray.Dataset>\n",
      "Dimensions:               (var: 2, time: 9, input_time: 9, clock: 2)\n",
      "Coordinates:\n",
      "  * clock                 (clock) int64 1 2\n",
      "Dimensions without coordinates: var, time, input_time\n",
      "Data variables:\n",
      "    Core__solver_type     <U6 'odeint'\n",
      "    Growth__growth_value  (var, time) float64 1.718 1.718 4.671 ... 69.32 188.4\n",
      "    Growth__rate          float64 1.0\n",
      "    Growth__var_ext       <U1 'X'\n",
      "    Time__time            (input_time) int64 1 2 3 4 5 6 7 8 9\n",
      "    Var__var_init         (var) float64 1.0 0.1\n",
      "    Var__var_label        <U1 'X'\n",
      "    Var__var_value        (var, time) float64 1.0 2.718 7.389 ... 109.7 298.1\n"
     ]
    }
   ],
   "source": [
    "import xso\n",
    "import numpy as np\n",
    "\n",
    "@xso.component\n",
    "class Variable:\n",
    "    var = xso.variable(dims=[(), 'var'], description='basic state variable')\n",
    "    \n",
    "@xso.component\n",
    "class LinearGrowth:\n",
    "    var_ext = xso.variable(foreign=True, dims=[(), 'var'], flux='growth', description='external state variable')\n",
    "    rate = xso.parameter(description='linear growth rate')\n",
    "    @xso.flux(dims=[(), 'var'])\n",
    "    def growth(self, var_ext, rate):\n",
    "        return var_ext * rate + self.m.log(1)\n",
    "    \n",
    "model = xso.create({'Var':Variable,'Growth':LinearGrowth})\n",
    "\n",
    "input_ds = xso.setup(solver='stepwise',\n",
    "                     model=model,\n",
    "                     time=np.arange(1,10),\n",
    "                     input_vars={\n",
    "                         'Var':{'var_label':'X', 'var_init':1},\n",
    "                         'Growth':{'var_ext':'X', 'rate':1.},\n",
    "                     })\n",
    "\n",
    "with model:\n",
    "    output_ds = input_ds.xsimlab.run()\n",
    "    \n",
    "print(output_ds)\n",
    "\n",
    "input_ds = xso.setup(solver='odeint',\n",
    "                     model=model,\n",
    "                     time=np.arange(1,10),\n",
    "                     input_vars={\n",
    "                         'Var':{'var_label':'X', 'var_init':[1, 0.1]},\n",
    "                         'Growth':{'var_ext':'X', 'rate':1.},\n",
    "                     })\n",
    "\n",
    "with model:\n",
    "    output_ds = input_ds.xsimlab.run()\n",
    "    \n",
    "\n",
    "print(output_ds)"
   ]
  },
  {
   "cell_type": "markdown",
   "id": "bfab2667-fb87-4ccd-87fd-d8436d109ee6",
   "metadata": {},
   "source": [
    "# DETAILED STEPS"
   ]
  },
  {
   "cell_type": "code",
   "execution_count": 1,
   "id": "fa2e6df9-a8a5-4aa2-92a0-d15c9794bb7e",
   "metadata": {},
   "outputs": [],
   "source": [
    "import xso\n",
    "\n",
    "import numpy as np"
   ]
  },
  {
   "cell_type": "code",
   "execution_count": 2,
   "id": "8134c5d0-e87b-451e-ab2a-0690689134d4",
   "metadata": {},
   "outputs": [],
   "source": [
    "@xso.component\n",
    "class Variable:\n",
    "    var = xso.variable(description='basic state variable')"
   ]
  },
  {
   "cell_type": "code",
   "execution_count": 3,
   "id": "1d8c4d04-efa6-4b97-ab16-24c9ad107371",
   "metadata": {},
   "outputs": [],
   "source": [
    "@xso.component\n",
    "class LinearGrowth:\n",
    "    var_ext = xso.variable(foreign=True, flux='growth', description='external state variable')\n",
    "    rate = xso.parameter(description='linear growth rate')\n",
    "    @xso.flux\n",
    "    def growth(self, var_ext, rate):\n",
    "        return var_ext * rate"
   ]
  },
  {
   "cell_type": "code",
   "execution_count": 4,
   "id": "b6456a25-c0a3-43e3-96cd-b352d8465a08",
   "metadata": {},
   "outputs": [],
   "source": [
    "model = xso.create({'Var':Variable,'Growth':LinearGrowth})"
   ]
  },
  {
   "cell_type": "code",
   "execution_count": 5,
   "id": "d404a17a-b9a6-49c6-bcc0-81c261bf58c4",
   "metadata": {},
   "outputs": [
    {
     "name": "stdout",
     "output_type": "stream",
     "text": [
      "<xsimlab.Model (5 processes, 6 inputs)>\n",
      "Core\n",
      "    solver_type     [in]\n",
      "Time\n",
      "    time            [in] ('input_time',) sequence of time points fo...\n",
      "Var\n",
      "    var_label       [in] label / basic state variable\n",
      "    var_init        [in] initial value / basic state variable\n",
      "Growth\n",
      "    var_ext         [in] label reference / external state variable\n",
      "    rate            [in] linear growth rate\n",
      "Solver\n",
      "\n"
     ]
    }
   ],
   "source": [
    "print(model)"
   ]
  },
  {
   "cell_type": "code",
   "execution_count": 6,
   "id": "1762709f-0f4b-4a52-b345-c1eb423997e6",
   "metadata": {},
   "outputs": [],
   "source": [
    "input_ds = xso.setup(solver='stepwise',\n",
    "                     model=model,\n",
    "                     time=np.arange(1,10),\n",
    "                     input_vars={\n",
    "                         'Var':{'var_label':'X', 'var_init':1},\n",
    "                         'Growth':{'var_ext':'X', 'rate':1.},\n",
    "                     })"
   ]
  },
  {
   "cell_type": "code",
   "execution_count": 7,
   "id": "57a95686-48b4-4c11-930d-7eac627c37dc",
   "metadata": {},
   "outputs": [
    {
     "name": "stdout",
     "output_type": "stream",
     "text": [
      "initializing model backend\n",
      "Initializing Model Time\n",
      "Within Solver, var_in_dict: defaultdict(None, {'time': 0.0})\n",
      "Initializing component Var\n",
      "Initializing component Growth\n",
      "Within Solver, var_in_dict: defaultdict(None, {'time': 0.0, 'X': 1.0, 'Time_time_flux': 1.0})\n",
      "finalizing: cleanup\n"
     ]
    },
    {
     "ename": "TypeError",
     "evalue": "unsupported operand type(s) for -: 'float' and 'NoneType'",
     "output_type": "error",
     "traceback": [
      "\u001b[0;31m---------------------------------------------------------------------------\u001b[0m",
      "\u001b[0;31mTypeError\u001b[0m                                 Traceback (most recent call last)",
      "\u001b[0;31mTypeError\u001b[0m: float() argument must be a string or a real number, not 'NoneType'",
      "\nThe above exception was the direct cause of the following exception:\n",
      "\u001b[0;31mValueError\u001b[0m                                Traceback (most recent call last)",
      "File \u001b[0;32m~/miniconda3/envs/xso_dev/lib/python3.10/site-packages/xsimlab/drivers.py:336\u001b[0m, in \u001b[0;36m_run\u001b[0;34m(dataset, model, store, hooks, validate, batch, batch_size, parallel, scheduler)\u001b[0m\n\u001b[1;32m    335\u001b[0m \u001b[38;5;28;01mtry\u001b[39;00m:\n\u001b[0;32m--> 336\u001b[0m     \u001b[43mmodel\u001b[49m\u001b[38;5;241;43m.\u001b[39;49m\u001b[43mexecute\u001b[49m\u001b[43m(\u001b[49m\u001b[38;5;124;43m\"\u001b[39;49m\u001b[38;5;124;43minitialize\u001b[39;49m\u001b[38;5;124;43m\"\u001b[39;49m\u001b[43m,\u001b[49m\u001b[43m \u001b[49m\u001b[43mrt_context\u001b[49m\u001b[43m,\u001b[49m\u001b[43m \u001b[49m\u001b[38;5;241;43m*\u001b[39;49m\u001b[38;5;241;43m*\u001b[39;49m\u001b[43mexecute_kwargs\u001b[49m\u001b[43m)\u001b[49m\n\u001b[1;32m    338\u001b[0m     \u001b[38;5;28;01mfor\u001b[39;00m step, (_, ds_step) \u001b[38;5;129;01min\u001b[39;00m \u001b[38;5;28menumerate\u001b[39m(ds_gby_steps):\n",
      "File \u001b[0;32m~/miniconda3/envs/xso_dev/lib/python3.10/site-packages/xsimlab/model.py:1023\u001b[0m, in \u001b[0;36mModel.execute\u001b[0;34m(self, stage, runtime_context, hooks, validate, parallel, scheduler)\u001b[0m\n\u001b[1;32m   1022\u001b[0m \u001b[38;5;28;01mfor\u001b[39;00m p_obj \u001b[38;5;129;01min\u001b[39;00m \u001b[38;5;28mself\u001b[39m\u001b[38;5;241m.\u001b[39m_processes\u001b[38;5;241m.\u001b[39mvalues():\n\u001b[0;32m-> 1023\u001b[0m     _, (_, signal_process) \u001b[38;5;241m=\u001b[39m \u001b[38;5;28;43mself\u001b[39;49m\u001b[38;5;241;43m.\u001b[39;49m\u001b[43m_execute_process\u001b[49m\u001b[43m(\u001b[49m\u001b[43mp_obj\u001b[49m\u001b[43m,\u001b[49m\u001b[43m \u001b[49m\u001b[38;5;241;43m*\u001b[39;49m\u001b[43mexecute_args\u001b[49m\u001b[43m)\u001b[49m\n\u001b[1;32m   1025\u001b[0m     \u001b[38;5;28;01mif\u001b[39;00m signal_process \u001b[38;5;241m==\u001b[39m RuntimeSignal\u001b[38;5;241m.\u001b[39mBREAK:\n",
      "File \u001b[0;32m~/miniconda3/envs/xso_dev/lib/python3.10/site-packages/xsimlab/model.py:842\u001b[0m, in \u001b[0;36mModel._execute_process\u001b[0;34m(self, p_obj, stage, runtime_context, hooks, validate, state)\u001b[0m\n\u001b[1;32m    840\u001b[0m     \u001b[38;5;28;01mreturn\u001b[39;00m p_name, ({}, signal_pre)\n\u001b[0;32m--> 842\u001b[0m state_out, signal_out \u001b[38;5;241m=\u001b[39m \u001b[43mexecutor\u001b[49m\u001b[38;5;241;43m.\u001b[39;49m\u001b[43mexecute\u001b[49m\u001b[43m(\u001b[49m\n\u001b[1;32m    843\u001b[0m \u001b[43m    \u001b[49m\u001b[43mp_obj\u001b[49m\u001b[43m,\u001b[49m\u001b[43m \u001b[49m\u001b[43mstage\u001b[49m\u001b[43m,\u001b[49m\u001b[43m \u001b[49m\u001b[43mruntime_context\u001b[49m\u001b[43m,\u001b[49m\u001b[43m \u001b[49m\u001b[43mstate\u001b[49m\u001b[38;5;241;43m=\u001b[39;49m\u001b[43mstate\u001b[49m\n\u001b[1;32m    844\u001b[0m \u001b[43m\u001b[49m\u001b[43m)\u001b[49m\n\u001b[1;32m    846\u001b[0m signal_post \u001b[38;5;241m=\u001b[39m \u001b[38;5;28mself\u001b[39m\u001b[38;5;241m.\u001b[39m_call_hooks(hooks, runtime_context, stage, \u001b[38;5;124m\"\u001b[39m\u001b[38;5;124mprocess\u001b[39m\u001b[38;5;124m\"\u001b[39m, \u001b[38;5;124m\"\u001b[39m\u001b[38;5;124mpost\u001b[39m\u001b[38;5;124m\"\u001b[39m)\n",
      "File \u001b[0;32m~/miniconda3/envs/xso_dev/lib/python3.10/site-packages/xsimlab/process.py:530\u001b[0m, in \u001b[0;36m_ProcessExecutor.execute\u001b[0;34m(self, p_obj, stage, runtime_context, state)\u001b[0m\n\u001b[1;32m    529\u001b[0m \u001b[38;5;28;01melse\u001b[39;00m:\n\u001b[0;32m--> 530\u001b[0m     signal_out \u001b[38;5;241m=\u001b[39m \u001b[43mexecutor\u001b[49m\u001b[38;5;241;43m.\u001b[39;49m\u001b[43mexecute\u001b[49m\u001b[43m(\u001b[49m\u001b[43mp_obj\u001b[49m\u001b[43m,\u001b[49m\u001b[43m \u001b[49m\u001b[43mruntime_context\u001b[49m\u001b[43m,\u001b[49m\u001b[43m \u001b[49m\u001b[43mstate\u001b[49m\u001b[38;5;241;43m=\u001b[39;49m\u001b[43mstate\u001b[49m\u001b[43m)\u001b[49m\n\u001b[1;32m    532\u001b[0m     skeys \u001b[38;5;241m=\u001b[39m [p_obj\u001b[38;5;241m.\u001b[39m__xsimlab_state_keys__[k] \u001b[38;5;28;01mfor\u001b[39;00m k \u001b[38;5;129;01min\u001b[39;00m \u001b[38;5;28mself\u001b[39m\u001b[38;5;241m.\u001b[39mout_vars]\n",
      "File \u001b[0;32m~/miniconda3/envs/xso_dev/lib/python3.10/site-packages/xsimlab/process.py:394\u001b[0m, in \u001b[0;36m_RuntimeMethodExecutor.execute\u001b[0;34m(self, p_obj, runtime_context, state)\u001b[0m\n\u001b[1;32m    392\u001b[0m args \u001b[38;5;241m=\u001b[39m [runtime_context[k] \u001b[38;5;28;01mfor\u001b[39;00m k \u001b[38;5;129;01min\u001b[39;00m \u001b[38;5;28mself\u001b[39m\u001b[38;5;241m.\u001b[39margs]\n\u001b[0;32m--> 394\u001b[0m signal \u001b[38;5;241m=\u001b[39m \u001b[38;5;28;43mself\u001b[39;49m\u001b[38;5;241;43m.\u001b[39;49m\u001b[43mmeth\u001b[49m\u001b[43m(\u001b[49m\u001b[43mp_obj\u001b[49m\u001b[43m,\u001b[49m\u001b[43m \u001b[49m\u001b[38;5;241;43m*\u001b[39;49m\u001b[43margs\u001b[49m\u001b[43m)\u001b[49m\n\u001b[1;32m    396\u001b[0m \u001b[38;5;28;01mif\u001b[39;00m signal \u001b[38;5;129;01mis\u001b[39;00m \u001b[38;5;28;01mNone\u001b[39;00m:\n",
      "File \u001b[0;32m~/Documents/GitHub/xarray-simlab-ode/src/xso/component.py:463\u001b[0m, in \u001b[0;36mcomponent.<locals>.create_component.<locals>.initialize\u001b[0;34m(self)\u001b[0m\n\u001b[1;32m    461\u001b[0m \u001b[38;5;28mself\u001b[39m\u001b[38;5;241m.\u001b[39mflux_input_args \u001b[38;5;241m=\u001b[39m _create_flux_inputargs_dict(\u001b[38;5;28mself\u001b[39m, vars_dict)\n\u001b[0;32m--> 463\u001b[0m \u001b[43m_initialize_fluxes\u001b[49m\u001b[43m(\u001b[49m\u001b[38;5;28;43mself\u001b[39;49m\u001b[43m,\u001b[49m\u001b[43m \u001b[49m\u001b[43mvars_dict\u001b[49m\u001b[43m)\u001b[49m\n\u001b[1;32m    465\u001b[0m _initialize_forcings(\u001b[38;5;28mself\u001b[39m, forcing_dict)\n",
      "File \u001b[0;32m~/Documents/GitHub/xarray-simlab-ode/src/xso/component.py:304\u001b[0m, in \u001b[0;36m_initialize_fluxes\u001b[0;34m(cls, vars_dict)\u001b[0m\n\u001b[1;32m    301\u001b[0m     \u001b[38;5;28mprint\u001b[39m(\u001b[38;5;28mgetattr\u001b[39m(\u001b[38;5;28mcls\u001b[39m, flux_func\u001b[38;5;241m.\u001b[39m\u001b[38;5;18m__name__\u001b[39m \u001b[38;5;241m+\u001b[39m \u001b[38;5;124m'\u001b[39m\u001b[38;5;124m_label\u001b[39m\u001b[38;5;124m'\u001b[39m))\n\u001b[1;32m    303\u001b[0m \u001b[38;5;28msetattr\u001b[39m(\u001b[38;5;28mcls\u001b[39m, key \u001b[38;5;241m+\u001b[39m \u001b[38;5;124m'\u001b[39m\u001b[38;5;124m_value\u001b[39m\u001b[38;5;124m'\u001b[39m,\n\u001b[0;32m--> 304\u001b[0m         \u001b[38;5;28;43mcls\u001b[39;49m\u001b[38;5;241;43m.\u001b[39;49m\u001b[43mcore\u001b[49m\u001b[38;5;241;43m.\u001b[39;49m\u001b[43mregister_flux\u001b[49m\u001b[43m(\u001b[49m\u001b[43mlabel\u001b[49m\u001b[38;5;241;43m=\u001b[39;49m\u001b[43mlabel\u001b[49m\u001b[43m,\u001b[49m\u001b[43m \u001b[49m\u001b[43mflux\u001b[49m\u001b[38;5;241;43m=\u001b[39;49m\u001b[38;5;28;43mcls\u001b[39;49m\u001b[38;5;241;43m.\u001b[39;49m\u001b[43mflux_decorator\u001b[49m\u001b[43m(\u001b[49m\u001b[43mflux_func\u001b[49m\u001b[43m)\u001b[49m\u001b[43m,\u001b[49m\u001b[43m \u001b[49m\u001b[43mdims\u001b[49m\u001b[38;5;241;43m=\u001b[39;49m\u001b[43mflux_dim\u001b[49m\u001b[43m)\u001b[49m)\n",
      "File \u001b[0;32m~/Documents/GitHub/xarray-simlab-ode/src/xso/core.py:94\u001b[0m, in \u001b[0;36mXSOCore.register_flux\u001b[0;34m(self, label, flux, dims)\u001b[0m\n\u001b[1;32m     93\u001b[0m     \u001b[38;5;66;03m# to store flux value:\u001b[39;00m\n\u001b[0;32m---> 94\u001b[0m     \u001b[38;5;28mself\u001b[39m\u001b[38;5;241m.\u001b[39mmodel\u001b[38;5;241m.\u001b[39mflux_values[label] \u001b[38;5;241m=\u001b[39m \u001b[38;5;28;43mself\u001b[39;49m\u001b[38;5;241;43m.\u001b[39;49m\u001b[43msolver\u001b[49m\u001b[38;5;241;43m.\u001b[39;49m\u001b[43mregister_flux\u001b[49m\u001b[43m(\u001b[49m\u001b[43mlabel\u001b[49m\u001b[43m,\u001b[49m\u001b[43m \u001b[49m\u001b[43mflux\u001b[49m\u001b[43m,\u001b[49m\u001b[43m \u001b[49m\u001b[38;5;28;43mself\u001b[39;49m\u001b[38;5;241;43m.\u001b[39;49m\u001b[43mmodel\u001b[49m\u001b[43m,\u001b[49m\u001b[43m \u001b[49m\u001b[43mdims\u001b[49m\u001b[43m)\u001b[49m\n\u001b[1;32m     95\u001b[0m \u001b[38;5;28;01melse\u001b[39;00m:\n",
      "File \u001b[0;32m~/Documents/GitHub/xarray-simlab-ode/src/xso/solvers.py:306\u001b[0m, in \u001b[0;36mStepwiseSolver.register_flux\u001b[0;34m(self, label, flux, model, dims)\u001b[0m\n\u001b[1;32m    302\u001b[0m flux_init \u001b[38;5;241m=\u001b[39m to_ndarray(flux(state\u001b[38;5;241m=\u001b[39mvar_in_dict,\n\u001b[1;32m    303\u001b[0m                             parameters\u001b[38;5;241m=\u001b[39mmodel\u001b[38;5;241m.\u001b[39mparameters,\n\u001b[1;32m    304\u001b[0m                             forcings\u001b[38;5;241m=\u001b[39mforcing_now))\n\u001b[0;32m--> 306\u001b[0m array_out, _dims \u001b[38;5;241m=\u001b[39m \u001b[38;5;28;43mself\u001b[39;49m\u001b[38;5;241;43m.\u001b[39;49m\u001b[43mreturn_dims_and_array\u001b[49m\u001b[43m(\u001b[49m\u001b[43mflux_init\u001b[49m\u001b[43m,\u001b[49m\u001b[43m \u001b[49m\u001b[43mmodel\u001b[49m\u001b[38;5;241;43m.\u001b[39;49m\u001b[43mtime\u001b[49m\u001b[43m)\u001b[49m\n\u001b[1;32m    308\u001b[0m model\u001b[38;5;241m.\u001b[39mflux_dims[label] \u001b[38;5;241m=\u001b[39m _dims\n",
      "File \u001b[0;32m~/Documents/GitHub/xarray-simlab-ode/src/xso/solvers.py:250\u001b[0m, in \u001b[0;36mStepwiseSolver.return_dims_and_array\u001b[0;34m(self, value, model_time)\u001b[0m\n\u001b[1;32m    249\u001b[0m     array_out \u001b[38;5;241m=\u001b[39m np\u001b[38;5;241m.\u001b[39mzeros(full_dims)\n\u001b[0;32m--> 250\u001b[0m     \u001b[43marray_out\u001b[49m\u001b[43m[\u001b[49m\u001b[38;5;241;43m0\u001b[39;49m\u001b[43m]\u001b[49m \u001b[38;5;241m=\u001b[39m value\n\u001b[1;32m    251\u001b[0m \u001b[38;5;28;01melif\u001b[39;00m \u001b[38;5;28mlen\u001b[39m(np\u001b[38;5;241m.\u001b[39mshape(value)) \u001b[38;5;241m==\u001b[39m \u001b[38;5;241m1\u001b[39m:\n",
      "\u001b[0;31mValueError\u001b[0m: setting an array element with a sequence.",
      "\nDuring handling of the above exception, another exception occurred:\n",
      "\u001b[0;31mTypeError\u001b[0m                                 Traceback (most recent call last)",
      "Cell \u001b[0;32mIn [7], line 2\u001b[0m\n\u001b[1;32m      1\u001b[0m \u001b[38;5;28;01mwith\u001b[39;00m model:\n\u001b[0;32m----> 2\u001b[0m     output_ds \u001b[38;5;241m=\u001b[39m \u001b[43minput_ds\u001b[49m\u001b[38;5;241;43m.\u001b[39;49m\u001b[43mxsimlab\u001b[49m\u001b[38;5;241;43m.\u001b[39;49m\u001b[43mrun\u001b[49m\u001b[43m(\u001b[49m\u001b[43m)\u001b[49m\n",
      "File \u001b[0;32m~/miniconda3/envs/xso_dev/lib/python3.10/site-packages/xsimlab/xr_accessor.py:823\u001b[0m, in \u001b[0;36mSimlabAccessor.run\u001b[0;34m(self, model, batch_dim, check_dims, validate, store, encoding, decoding, hooks, parallel, scheduler, safe_mode)\u001b[0m\n\u001b[1;32m    807\u001b[0m     model \u001b[38;5;241m=\u001b[39m model\u001b[38;5;241m.\u001b[39mclone()\n\u001b[1;32m    809\u001b[0m driver \u001b[38;5;241m=\u001b[39m XarraySimulationDriver(\n\u001b[1;32m    810\u001b[0m     \u001b[38;5;28mself\u001b[39m\u001b[38;5;241m.\u001b[39m_ds,\n\u001b[1;32m    811\u001b[0m     model,\n\u001b[0;32m   (...)\u001b[0m\n\u001b[1;32m    820\u001b[0m     scheduler\u001b[38;5;241m=\u001b[39mscheduler,\n\u001b[1;32m    821\u001b[0m )\n\u001b[0;32m--> 823\u001b[0m \u001b[43mdriver\u001b[49m\u001b[38;5;241;43m.\u001b[39;49m\u001b[43mrun_model\u001b[49m\u001b[43m(\u001b[49m\u001b[43m)\u001b[49m\n\u001b[1;32m    825\u001b[0m \u001b[38;5;28;01mreturn\u001b[39;00m driver\u001b[38;5;241m.\u001b[39mget_results()\n",
      "File \u001b[0;32m~/miniconda3/envs/xso_dev/lib/python3.10/site-packages/xsimlab/drivers.py:472\u001b[0m, in \u001b[0;36mXarraySimulationDriver.run_model\u001b[0;34m(self)\u001b[0m\n\u001b[1;32m    469\u001b[0m args \u001b[38;5;241m=\u001b[39m (\u001b[38;5;28mself\u001b[39m\u001b[38;5;241m.\u001b[39mstore, \u001b[38;5;28mself\u001b[39m\u001b[38;5;241m.\u001b[39mhooks, \u001b[38;5;28mself\u001b[39m\u001b[38;5;241m.\u001b[39m_validate_option)\n\u001b[1;32m    471\u001b[0m \u001b[38;5;28;01mif\u001b[39;00m \u001b[38;5;28mself\u001b[39m\u001b[38;5;241m.\u001b[39mbatch_dim \u001b[38;5;129;01mis\u001b[39;00m \u001b[38;5;28;01mNone\u001b[39;00m:\n\u001b[0;32m--> 472\u001b[0m     \u001b[43m_run\u001b[49m\u001b[43m(\u001b[49m\n\u001b[1;32m    473\u001b[0m \u001b[43m        \u001b[49m\u001b[43mds_in\u001b[49m\u001b[43m,\u001b[49m\n\u001b[1;32m    474\u001b[0m \u001b[43m        \u001b[49m\u001b[38;5;28;43mself\u001b[39;49m\u001b[38;5;241;43m.\u001b[39;49m\u001b[43mmodel\u001b[49m\u001b[43m,\u001b[49m\n\u001b[1;32m    475\u001b[0m \u001b[43m        \u001b[49m\u001b[38;5;241;43m*\u001b[39;49m\u001b[43margs\u001b[49m\u001b[43m,\u001b[49m\n\u001b[1;32m    476\u001b[0m \u001b[43m        \u001b[49m\u001b[43mparallel\u001b[49m\u001b[38;5;241;43m=\u001b[39;49m\u001b[38;5;28;43mself\u001b[39;49m\u001b[38;5;241;43m.\u001b[39;49m\u001b[43mparallel\u001b[49m\u001b[43m,\u001b[49m\n\u001b[1;32m    477\u001b[0m \u001b[43m        \u001b[49m\u001b[43mscheduler\u001b[49m\u001b[38;5;241;43m=\u001b[39;49m\u001b[38;5;28;43mself\u001b[39;49m\u001b[38;5;241;43m.\u001b[39;49m\u001b[43mscheduler\u001b[49m\u001b[43m,\u001b[49m\n\u001b[1;32m    478\u001b[0m \u001b[43m    \u001b[49m\u001b[43m)\u001b[49m\n\u001b[1;32m    480\u001b[0m \u001b[38;5;28;01melse\u001b[39;00m:\n\u001b[1;32m    481\u001b[0m     ds_gby_batch \u001b[38;5;241m=\u001b[39m ds_in\u001b[38;5;241m.\u001b[39mgroupby(\u001b[38;5;28mself\u001b[39m\u001b[38;5;241m.\u001b[39mbatch_dim)\n",
      "File \u001b[0;32m~/miniconda3/envs/xso_dev/lib/python3.10/site-packages/xsimlab/drivers.py:371\u001b[0m, in \u001b[0;36m_run\u001b[0;34m(dataset, model, store, hooks, validate, batch, batch_size, parallel, scheduler)\u001b[0m\n\u001b[1;32m    369\u001b[0m     \u001b[38;5;28;01mraise\u001b[39;00m\n\u001b[1;32m    370\u001b[0m \u001b[38;5;28;01mfinally\u001b[39;00m:\n\u001b[0;32m--> 371\u001b[0m     \u001b[43mmodel\u001b[49m\u001b[38;5;241;43m.\u001b[39;49m\u001b[43mexecute\u001b[49m\u001b[43m(\u001b[49m\u001b[38;5;124;43m\"\u001b[39;49m\u001b[38;5;124;43mfinalize\u001b[39;49m\u001b[38;5;124;43m\"\u001b[39;49m\u001b[43m,\u001b[49m\u001b[43m \u001b[49m\u001b[43mrt_context\u001b[49m\u001b[43m,\u001b[49m\u001b[43m \u001b[49m\u001b[38;5;241;43m*\u001b[39;49m\u001b[38;5;241;43m*\u001b[39;49m\u001b[43mexecute_kwargs\u001b[49m\u001b[43m)\u001b[49m\n",
      "File \u001b[0;32m~/miniconda3/envs/xso_dev/lib/python3.10/site-packages/xsimlab/model.py:1023\u001b[0m, in \u001b[0;36mModel.execute\u001b[0;34m(self, stage, runtime_context, hooks, validate, parallel, scheduler)\u001b[0m\n\u001b[1;32m   1021\u001b[0m \u001b[38;5;28;01melse\u001b[39;00m:\n\u001b[1;32m   1022\u001b[0m     \u001b[38;5;28;01mfor\u001b[39;00m p_obj \u001b[38;5;129;01min\u001b[39;00m \u001b[38;5;28mself\u001b[39m\u001b[38;5;241m.\u001b[39m_processes\u001b[38;5;241m.\u001b[39mvalues():\n\u001b[0;32m-> 1023\u001b[0m         _, (_, signal_process) \u001b[38;5;241m=\u001b[39m \u001b[38;5;28;43mself\u001b[39;49m\u001b[38;5;241;43m.\u001b[39;49m\u001b[43m_execute_process\u001b[49m\u001b[43m(\u001b[49m\u001b[43mp_obj\u001b[49m\u001b[43m,\u001b[49m\u001b[43m \u001b[49m\u001b[38;5;241;43m*\u001b[39;49m\u001b[43mexecute_args\u001b[49m\u001b[43m)\u001b[49m\n\u001b[1;32m   1025\u001b[0m         \u001b[38;5;28;01mif\u001b[39;00m signal_process \u001b[38;5;241m==\u001b[39m RuntimeSignal\u001b[38;5;241m.\u001b[39mBREAK:\n\u001b[1;32m   1026\u001b[0m             \u001b[38;5;28;01mbreak\u001b[39;00m\n",
      "File \u001b[0;32m~/miniconda3/envs/xso_dev/lib/python3.10/site-packages/xsimlab/model.py:842\u001b[0m, in \u001b[0;36mModel._execute_process\u001b[0;34m(self, p_obj, stage, runtime_context, hooks, validate, state)\u001b[0m\n\u001b[1;32m    839\u001b[0m \u001b[38;5;28;01mif\u001b[39;00m signal_pre\u001b[38;5;241m.\u001b[39mvalue \u001b[38;5;241m>\u001b[39m \u001b[38;5;241m0\u001b[39m:\n\u001b[1;32m    840\u001b[0m     \u001b[38;5;28;01mreturn\u001b[39;00m p_name, ({}, signal_pre)\n\u001b[0;32m--> 842\u001b[0m state_out, signal_out \u001b[38;5;241m=\u001b[39m \u001b[43mexecutor\u001b[49m\u001b[38;5;241;43m.\u001b[39;49m\u001b[43mexecute\u001b[49m\u001b[43m(\u001b[49m\n\u001b[1;32m    843\u001b[0m \u001b[43m    \u001b[49m\u001b[43mp_obj\u001b[49m\u001b[43m,\u001b[49m\u001b[43m \u001b[49m\u001b[43mstage\u001b[49m\u001b[43m,\u001b[49m\u001b[43m \u001b[49m\u001b[43mruntime_context\u001b[49m\u001b[43m,\u001b[49m\u001b[43m \u001b[49m\u001b[43mstate\u001b[49m\u001b[38;5;241;43m=\u001b[39;49m\u001b[43mstate\u001b[49m\n\u001b[1;32m    844\u001b[0m \u001b[43m\u001b[49m\u001b[43m)\u001b[49m\n\u001b[1;32m    846\u001b[0m signal_post \u001b[38;5;241m=\u001b[39m \u001b[38;5;28mself\u001b[39m\u001b[38;5;241m.\u001b[39m_call_hooks(hooks, runtime_context, stage, \u001b[38;5;124m\"\u001b[39m\u001b[38;5;124mprocess\u001b[39m\u001b[38;5;124m\"\u001b[39m, \u001b[38;5;124m\"\u001b[39m\u001b[38;5;124mpost\u001b[39m\u001b[38;5;124m\"\u001b[39m)\n\u001b[1;32m    847\u001b[0m \u001b[38;5;28;01mif\u001b[39;00m signal_post\u001b[38;5;241m.\u001b[39mvalue \u001b[38;5;241m>\u001b[39m signal_out\u001b[38;5;241m.\u001b[39mvalue:\n",
      "File \u001b[0;32m~/miniconda3/envs/xso_dev/lib/python3.10/site-packages/xsimlab/process.py:530\u001b[0m, in \u001b[0;36m_ProcessExecutor.execute\u001b[0;34m(self, p_obj, stage, runtime_context, state)\u001b[0m\n\u001b[1;32m    528\u001b[0m     \u001b[38;5;28;01mreturn\u001b[39;00m {}, RuntimeSignal\u001b[38;5;241m.\u001b[39mNONE\n\u001b[1;32m    529\u001b[0m \u001b[38;5;28;01melse\u001b[39;00m:\n\u001b[0;32m--> 530\u001b[0m     signal_out \u001b[38;5;241m=\u001b[39m \u001b[43mexecutor\u001b[49m\u001b[38;5;241;43m.\u001b[39;49m\u001b[43mexecute\u001b[49m\u001b[43m(\u001b[49m\u001b[43mp_obj\u001b[49m\u001b[43m,\u001b[49m\u001b[43m \u001b[49m\u001b[43mruntime_context\u001b[49m\u001b[43m,\u001b[49m\u001b[43m \u001b[49m\u001b[43mstate\u001b[49m\u001b[38;5;241;43m=\u001b[39;49m\u001b[43mstate\u001b[49m\u001b[43m)\u001b[49m\n\u001b[1;32m    532\u001b[0m     skeys \u001b[38;5;241m=\u001b[39m [p_obj\u001b[38;5;241m.\u001b[39m__xsimlab_state_keys__[k] \u001b[38;5;28;01mfor\u001b[39;00m k \u001b[38;5;129;01min\u001b[39;00m \u001b[38;5;28mself\u001b[39m\u001b[38;5;241m.\u001b[39mout_vars]\n\u001b[1;32m    533\u001b[0m     sobj \u001b[38;5;241m=\u001b[39m p_obj\u001b[38;5;241m.\u001b[39m__xsimlab_state__\n",
      "File \u001b[0;32m~/miniconda3/envs/xso_dev/lib/python3.10/site-packages/xsimlab/process.py:394\u001b[0m, in \u001b[0;36m_RuntimeMethodExecutor.execute\u001b[0;34m(self, p_obj, runtime_context, state)\u001b[0m\n\u001b[1;32m    390\u001b[0m     p_obj\u001b[38;5;241m.\u001b[39m__xsimlab_state__ \u001b[38;5;241m=\u001b[39m state\n\u001b[1;32m    392\u001b[0m args \u001b[38;5;241m=\u001b[39m [runtime_context[k] \u001b[38;5;28;01mfor\u001b[39;00m k \u001b[38;5;129;01min\u001b[39;00m \u001b[38;5;28mself\u001b[39m\u001b[38;5;241m.\u001b[39margs]\n\u001b[0;32m--> 394\u001b[0m signal \u001b[38;5;241m=\u001b[39m \u001b[38;5;28;43mself\u001b[39;49m\u001b[38;5;241;43m.\u001b[39;49m\u001b[43mmeth\u001b[49m\u001b[43m(\u001b[49m\u001b[43mp_obj\u001b[49m\u001b[43m,\u001b[49m\u001b[43m \u001b[49m\u001b[38;5;241;43m*\u001b[39;49m\u001b[43margs\u001b[49m\u001b[43m)\u001b[49m\n\u001b[1;32m    396\u001b[0m \u001b[38;5;28;01mif\u001b[39;00m signal \u001b[38;5;129;01mis\u001b[39;00m \u001b[38;5;28;01mNone\u001b[39;00m:\n\u001b[1;32m    397\u001b[0m     \u001b[38;5;28;01mreturn\u001b[39;00m RuntimeSignal\u001b[38;5;241m.\u001b[39mNONE\n",
      "File \u001b[0;32m~/Documents/GitHub/xarray-simlab-ode/src/xso/backendcomps.py:21\u001b[0m, in \u001b[0;36mBackend.finalize\u001b[0;34m(self)\u001b[0m\n\u001b[1;32m     19\u001b[0m \u001b[38;5;28;01mdef\u001b[39;00m \u001b[38;5;21mfinalize\u001b[39m(\u001b[38;5;28mself\u001b[39m):\n\u001b[1;32m     20\u001b[0m     \u001b[38;5;28mprint\u001b[39m(\u001b[38;5;124m'\u001b[39m\u001b[38;5;124mfinalizing: cleanup\u001b[39m\u001b[38;5;124m'\u001b[39m)\n\u001b[0;32m---> 21\u001b[0m     \u001b[38;5;28;43mself\u001b[39;49m\u001b[38;5;241;43m.\u001b[39;49m\u001b[43mcore\u001b[49m\u001b[38;5;241;43m.\u001b[39;49m\u001b[43mcleanup\u001b[49m\u001b[43m(\u001b[49m\u001b[43m)\u001b[49m\n",
      "File \u001b[0;32m~/Documents/GitHub/xarray-simlab-ode/src/xso/core.py:123\u001b[0m, in \u001b[0;36mXSOCore.cleanup\u001b[0;34m(self)\u001b[0m\n\u001b[1;32m    121\u001b[0m \u001b[38;5;28;01mdef\u001b[39;00m \u001b[38;5;21mcleanup\u001b[39m(\u001b[38;5;28mself\u001b[39m):\n\u001b[1;32m    122\u001b[0m     \u001b[38;5;28mself\u001b[39m\u001b[38;5;241m.\u001b[39msolve_end \u001b[38;5;241m=\u001b[39m tm\u001b[38;5;241m.\u001b[39mtime()\n\u001b[0;32m--> 123\u001b[0m     \u001b[38;5;28mprint\u001b[39m(\u001b[38;5;124mf\u001b[39m\u001b[38;5;124m\"\u001b[39m\u001b[38;5;124mModel was solved in \u001b[39m\u001b[38;5;132;01m{\u001b[39;00m\u001b[38;5;28mround\u001b[39m(\u001b[38;5;28mself\u001b[39m\u001b[38;5;241m.\u001b[39msolve_end \u001b[38;5;241m-\u001b[39m \u001b[38;5;28mself\u001b[39m\u001b[38;5;241m.\u001b[39msolve_start, \u001b[38;5;241m5\u001b[39m)\u001b[38;5;132;01m}\u001b[39;00m\u001b[38;5;124m seconds\u001b[39m\u001b[38;5;124m\"\u001b[39m)\n\u001b[1;32m    124\u001b[0m     \u001b[38;5;28mself\u001b[39m\u001b[38;5;241m.\u001b[39msolver\u001b[38;5;241m.\u001b[39mcleanup()\n",
      "\u001b[0;31mTypeError\u001b[0m: unsupported operand type(s) for -: 'float' and 'NoneType'"
     ]
    }
   ],
   "source": [
    "with model:\n",
    "    output_ds = input_ds.xsimlab.run()"
   ]
  },
  {
   "cell_type": "code",
   "execution_count": null,
   "id": "72993402-505a-44f1-b67a-0b05a8c497be",
   "metadata": {},
   "outputs": [],
   "source": [
    "output_ds"
   ]
  },
  {
   "cell_type": "code",
   "execution_count": null,
   "id": "3808be3b-0356-4cb9-915c-ad74b63da5d3",
   "metadata": {},
   "outputs": [],
   "source": []
  },
  {
   "cell_type": "code",
   "execution_count": null,
   "id": "5e929dce-fe63-4af1-85e5-07545f5fa347",
   "metadata": {},
   "outputs": [],
   "source": []
  }
 ],
 "metadata": {
  "kernelspec": {
   "display_name": "Python 3 (ipykernel)",
   "language": "python",
   "name": "python3"
  },
  "language_info": {
   "codemirror_mode": {
    "name": "ipython",
    "version": 3
   },
   "file_extension": ".py",
   "mimetype": "text/x-python",
   "name": "python",
   "nbconvert_exporter": "python",
   "pygments_lexer": "ipython3",
   "version": "3.10.6"
  }
 },
 "nbformat": 4,
 "nbformat_minor": 5
}
