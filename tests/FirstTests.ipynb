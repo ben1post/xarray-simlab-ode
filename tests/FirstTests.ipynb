{
 "cells": [
  {
   "cell_type": "markdown",
   "id": "10e4a9b6-0a36-4534-ba2e-ab86380cf4bf",
   "metadata": {},
   "source": [
    "# Major notes and ideas:\n",
    "\n",
    "- make unecessery model diagnostics or computed values as on_demand variables instead, this improves efficiency (if they do not have to be calculated at every step)\n",
    "\n",
    "- add index variable functionality! but how?\n",
    "\n",
    "-"
   ]
  },
  {
   "cell_type": "code",
   "execution_count": 1,
   "id": "236ae549-78bc-407a-833c-f2d379905ae5",
   "metadata": {},
   "outputs": [],
   "source": [
    "import xso"
   ]
  },
  {
   "cell_type": "code",
   "execution_count": 2,
   "id": "1de9082d-a40a-4e63-acb9-24bad8d388e8",
   "metadata": {},
   "outputs": [
    {
     "data": {
      "text/plain": [
       "<function xso.component.component.<locals>.create_component(cls)>"
      ]
     },
     "execution_count": 2,
     "metadata": {},
     "output_type": "execute_result"
    }
   ],
   "source": [
    "# start testing base functionality\n",
    "xso.variable()\n",
    "\n",
    "xso.component()"
   ]
  },
  {
   "cell_type": "code",
   "execution_count": 3,
   "id": "98657015-e0c2-4490-992b-34c2389144de",
   "metadata": {},
   "outputs": [],
   "source": [
    "import xsimlab as xs"
   ]
  },
  {
   "cell_type": "code",
   "execution_count": 4,
   "id": "a4793be3-0b56-4d44-9010-12b181015c92",
   "metadata": {},
   "outputs": [
    {
     "data": {
      "text/plain": [
       "<function xsimlab.process.process.<locals>.wrap(cls)>"
      ]
     },
     "execution_count": 4,
     "metadata": {},
     "output_type": "execute_result"
    }
   ],
   "source": [
    "xs.process()"
   ]
  },
  {
   "cell_type": "code",
   "execution_count": 5,
   "id": "dba2c1c7-67f3-4104-9a81-f7261db5266b",
   "metadata": {},
   "outputs": [],
   "source": [
    "import xsimlab as xs\n",
    "\n",
    "from xso.core import XSOCore\n",
    "\n",
    "\n",
    "@xs.process\n",
    "class Backend:\n",
    "    \"\"\"this object contains the backend model and is modified or read by all other components\"\"\"\n",
    "\n",
    "    solver_type = xs.variable(intent='in')\n",
    "    m = xs.any_object(description='model backend instance is stored here')\n",
    "\n",
    "    def initialize(self):\n",
    "        print('initializing model backend')\n",
    "        self.m = PhydraCore(self.solver_type)\n",
    "\n",
    "    def finalize(self):\n",
    "        print('finalizing: cleanup')\n",
    "        self.m.cleanup()  # for now only affects gekko solve"
   ]
  },
  {
   "cell_type": "code",
   "execution_count": 6,
   "id": "589ee754-d5f2-410f-aa84-ae2718b5ce70",
   "metadata": {},
   "outputs": [
    {
     "data": {
      "text/plain": [
       "__main__.Backend"
      ]
     },
     "execution_count": 6,
     "metadata": {},
     "output_type": "execute_result"
    }
   ],
   "source": [
    "Backend"
   ]
  },
  {
   "cell_type": "markdown",
   "id": "a37b964f-9c5a-4fdb-b9e4-a4fdab809b05",
   "metadata": {},
   "source": [
    "# Now Test The Global Ref option\n",
    "\n",
    "- test the feature, if is incorporated into XSO, now is the time!\n",
    "- go through and update the framework, then build Phydra with new funcs"
   ]
  },
  {
   "cell_type": "code",
   "execution_count": 7,
   "id": "b5641f4c-9d5b-4f86-9e71-afda3b2e6320",
   "metadata": {},
   "outputs": [],
   "source": [
    "@xs.process\n",
    "class Globally:\n",
    "    glo = xs.global_ref(name=\"A\")\n",
    "    testgroup = xs.group_dict(name=\"G\")\n",
    "    \n",
    "    def initialize(self):\n",
    "        print(self.glo)\n",
    "        print(self.testgroup)\n",
    "        \n",
    "    def finalize(self):\n",
    "        print(\"finalize globally\")\n",
    "        print(self.testgroup)"
   ]
  },
  {
   "cell_type": "code",
   "execution_count": 8,
   "id": "b98374bd-cc28-4846-8dc6-84fe3b736881",
   "metadata": {},
   "outputs": [],
   "source": [
    "@xs.process\n",
    "class Varr:\n",
    "    a = xs.variable(global_name=\"A\")\n",
    "    \n",
    "    b = xs.variable(groups=\"G\")\n",
    "    c = xs.variable(groups=\"G\")\n",
    "    \n",
    "    def run(self):\n",
    "        print(self.a)\n",
    "        self.a = 2\n",
    "        print(self.a)\n",
    "        \n",
    "    def finalize(self):\n",
    "        print(\"finalize Varr\")\n",
    "        print(self.a)"
   ]
  },
  {
   "cell_type": "code",
   "execution_count": 9,
   "id": "526741f7-eee3-488c-8c50-591d12233a4a",
   "metadata": {},
   "outputs": [],
   "source": [
    "testmod = xs.Model({'g':Globally, 'var':Varr})"
   ]
  },
  {
   "cell_type": "code",
   "execution_count": 10,
   "id": "eff53c32-042a-4af2-a245-ee8daa33296f",
   "metadata": {},
   "outputs": [],
   "source": [
    "test = xs.create_setup(model=testmod, \n",
    "                       clocks={'time':[0,1]},\n",
    "                       input_vars={'var':{'a':1, 'b':'B', 'c':3}})"
   ]
  },
  {
   "cell_type": "code",
   "execution_count": 11,
   "id": "ddb1fe0a-23a0-4647-96cf-59532608308e",
   "metadata": {},
   "outputs": [
    {
     "name": "stdout",
     "output_type": "stream",
     "text": [
      "1\n",
      "Frozen({('var', 'b'): 'B', ('var', 'c'): 3})\n",
      "finalize globally\n",
      "Frozen({('var', 'b'): 'B', ('var', 'c'): 3})\n",
      "finalize Varr\n",
      "1\n"
     ]
    }
   ],
   "source": [
    "with testmod:\n",
    "    test.xsimlab.run()"
   ]
  },
  {
   "cell_type": "markdown",
   "id": "129cf968-d50e-44ea-85be-fd25cdf2f817",
   "metadata": {},
   "source": [
    "# Should I build it from \"scratch\"?\n",
    "\n",
    "- or start modifying, and then go through and trim?\n",
    "\n",
    "seems like the second option is more efficient, can always do a full rewrite part per part"
   ]
  },
  {
   "cell_type": "markdown",
   "id": "fa8288dc-d115-4764-b500-170751636db7",
   "metadata": {},
   "source": [
    "hm... now, where to start?\n",
    "\n",
    "build \"test\" xso components, then go through backend and modify, whilst testing basic functionality"
   ]
  },
  {
   "cell_type": "code",
   "execution_count": 1,
   "id": "78b11049-f1c0-463f-bfa4-7e41743bfb5f",
   "metadata": {},
   "outputs": [],
   "source": [
    "import xso"
   ]
  },
  {
   "cell_type": "code",
   "execution_count": 2,
   "id": "5a20c5ff-09ed-4072-97e6-87ef41977072",
   "metadata": {},
   "outputs": [],
   "source": [
    "@xso.component(init_stage=2)\n",
    "class Variable:\n",
    "    var = xso.variable(description='basic state variable')\n",
    "    \n",
    "@xso.component(init_stage=2)\n",
    "class Variable_with_dims:\n",
    "    var = xso.variable(dims='var', description='basic state variable')\n",
    "    \n",
    "@xso.component(init_stage=3)\n",
    "class Flux:\n",
    "    \"\"\" basic flux process for testing \n",
    "    represents linear growth of a foreign variable\n",
    "    \"\"\"\n",
    "    var = xso.variable(foreign=True, flux='growth', \n",
    "                       negative=False, description='variable affected by flux',\n",
    "                      dims=[(),('var')])\n",
    "    rate = xso.parameter(description='linear rate of change',\n",
    "                      dims=[(),('var')])\n",
    "\n",
    "    @xso.flux(dims=[(),('var')])\n",
    "    def growth(self, var, rate):\n",
    "        \"\"\" \"\"\"\n",
    "        return var * rate"
   ]
  },
  {
   "cell_type": "code",
   "execution_count": 3,
   "id": "ae38fdfe-0252-4d8c-9ea7-9a58599cf0a4",
   "metadata": {},
   "outputs": [],
   "source": [
    "MODEL = xso.create({\"Var\":Variable, \"VarDims\":Variable_with_dims, \"Flux\":Flux, \"Flux_dims\":Flux})"
   ]
  },
  {
   "cell_type": "code",
   "execution_count": 4,
   "id": "f3af119a-ebcd-4e85-9932-b74ba3deff7e",
   "metadata": {},
   "outputs": [
    {
     "data": {
      "text/plain": [
       "<xsimlab.Model (7 processes, 10 inputs)>\n",
       "Core\n",
       "    solver_type     [in]\n",
       "Time\n",
       "    time            [in] ('input_time',) sequence of time points fo...\n",
       "Var\n",
       "    var_label       [in] label / basic state variable\n",
       "    var_init        [in] initial value / basic state variable\n",
       "VarDims\n",
       "    var_label       [in] label / basic state variable\n",
       "    var_init        [in] ('var',) initial value / basic state variable\n",
       "Flux\n",
       "    var             [in] label reference / variable affected by flux\n",
       "    rate            [in] () or ('var',) linear rate of change\n",
       "Flux_dims\n",
       "    var             [in] label reference / variable affected by flux\n",
       "    rate            [in] () or ('var',) linear rate of change\n",
       "Solver"
      ]
     },
     "execution_count": 4,
     "metadata": {},
     "output_type": "execute_result"
    }
   ],
   "source": [
    "MODEL"
   ]
  },
  {
   "cell_type": "code",
   "execution_count": 8,
   "id": "8956101d-02c4-47ae-bddb-26690afda777",
   "metadata": {},
   "outputs": [],
   "source": [
    "import numpy as np\n",
    "\n",
    "SETUP = xso.setup(solver='odeint', model=MODEL,\n",
    "            time=np.arange(0,5),\n",
    "            input_vars={'Var':{'var_label':'A', 'var_init':1.},\n",
    "                        'VarDims':{'var_label':'B', 'var_init':[1.,2.]},\n",
    "                        'Flux':{'var':'A', 'rate':1.},\n",
    "                        'Flux_dims':{'var':'B', 'rate':[1.,0.5]},\n",
    "                       }\n",
    "         )"
   ]
  },
  {
   "cell_type": "code",
   "execution_count": 9,
   "id": "a8073c8a-bd39-4eaa-875b-dcb46a0c7eb2",
   "metadata": {},
   "outputs": [
    {
     "name": "stdout",
     "output_type": "stream",
     "text": [
      "initializing model backend\n",
      "Initializing Model Time\n",
      "Initializing component Var\n",
      "Initializing component VarDims\n",
      "Initializing component Flux\n",
      "Initializing component Flux_dims\n",
      "assembling model\n",
      "SOLVER : <xso.solvers.ODEINTSolver object at 0x7f6490786da0>\n",
      "Model is assembled:\n",
      "Model contains: \n",
      "Variables:['time', 'A', 'B'] \n",
      "Parameters:['Flux_rate', 'Flux_dims_rate'] \n",
      "Forcings:[] \n",
      "Fluxes:['Time_time_flux', 'Flux_growth', 'Flux_dims_growth'] \n",
      "Full Model Dimensions:[('time', None), ('A', None), ('B', 2), ('Time_time_flux', None), ('Flux_growth', None), ('Flux_dims_growth', 2)] \n",
      "\n",
      "finalizing: cleanup\n",
      "Model was solved in 0.02287 seconds\n"
     ]
    }
   ],
   "source": [
    "with MODEL:\n",
    "    OUTPUT = SETUP.xsimlab.run()"
   ]
  },
  {
   "cell_type": "code",
   "execution_count": 12,
   "id": "d136e87f-9ec3-4cfb-bfa1-c06f32f899f0",
   "metadata": {},
   "outputs": [
    {
     "data": {
      "text/plain": [
       "[<matplotlib.lines.Line2D at 0x7f650876dc90>]"
      ]
     },
     "execution_count": 12,
     "metadata": {},
     "output_type": "execute_result"
    },
    {
     "data": {
      "image/png": "[encoded data removed]",
      "text/plain": [
       "<Figure size 640x480 with 1 Axes>"
      ]
     },
     "metadata": {},
     "output_type": "display_data"
    }
   ],
   "source": [
    "OUTPUT.Var__var_value.plot()"
   ]
  },
  {
   "cell_type": "code",
   "execution_count": null,
   "id": "e738fef7-0358-4cec-88ef-13b4cf851059",
   "metadata": {},
   "outputs": [],
   "source": []
  }
 ],
 "metadata": {
  "kernelspec": {
   "display_name": "Python 3 (ipykernel)",
   "language": "python",
   "name": "python3"
  },
  "language_info": {
   "codemirror_mode": {
    "name": "ipython",
    "version": 3
   },
   "file_extension": ".py",
   "mimetype": "text/x-python",
   "name": "python",
   "nbconvert_exporter": "python",
   "pygments_lexer": "ipython3",
   "version": "3.10.6"
  }
 },
 "nbformat": 4,
 "nbformat_minor": 5
}
