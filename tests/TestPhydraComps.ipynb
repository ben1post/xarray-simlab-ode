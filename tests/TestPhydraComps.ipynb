{
 "cells": [
  {
   "cell_type": "code",
   "execution_count": 1,
   "id": "98b2c54a-c99f-476a-831d-e3e05466b27b",
   "metadata": {
    "ExecuteTime": {
     "end_time": "2023-06-28T21:09:22.471472Z",
     "start_time": "2023-06-28T21:09:21.313978Z"
    }
   },
   "outputs": [],
   "source": [
    "import xso"
   ]
  },
  {
   "cell_type": "code",
   "execution_count": 2,
   "id": "b6836256-6cf7-4bbe-9dc5-fc54419c2fcc",
   "metadata": {
    "ExecuteTime": {
     "end_time": "2023-06-28T21:09:26.021506Z",
     "start_time": "2023-06-28T21:09:26.015682Z"
    }
   },
   "outputs": [
    {
     "name": "stdout",
     "output_type": "stream",
     "text": [
      "<class 'attr._make.Attribute'>\n",
      "<class 'attr._make.Attribute'>\n",
      "<class 'attr._make.Attribute'>\n",
      "<class 'attr._make.Attribute'>\n",
      "<class 'attr._make.Attribute'>\n",
      "<class 'attr._make.Attribute'>\n",
      "<class 'attr._make.Attribute'>\n"
     ]
    }
   ],
   "source": [
    "@xso.component\n",
    "class SizebasedGrazingKernel_Dims:\n",
    "    \"\"\" ASTroCAT Grazing Kernel \"\"\"\n",
    "    resource = xso.variable(foreign=True, dims='resource')\n",
    "    consumer = xso.variable(foreign=True, dims='consumer')\n",
    "    phiP = xso.parameter(dims=('resource', 'consumer'), description='feeding preferences')\n",
    "    Imax = xso.parameter(dims='consumer', description='maximum ingestion rate')\n",
    "    KsZ = xso.parameter(description='half sat of grazing')\n",
    "\n",
    "    @xso.flux(group='graze_matrix', dims=('resource', 'consumer'))\n",
    "    def grazing(self, resource, consumer, phiP, Imax, KsZ):\n",
    "        \"\"\" \"\"\"\n",
    "        PscaledAsFood = phiP / KsZ * resource[:, None]\n",
    "        FgrazP = Imax * consumer * PscaledAsFood / (1 + self.m.sum(PscaledAsFood, axis=0))\n",
    "        return FgrazP\n"
   ]
  },
  {
   "cell_type": "code",
   "execution_count": 3,
   "id": "4b948f9f-d18a-46c2-85b1-f869c8d6ce93",
   "metadata": {
    "ExecuteTime": {
     "end_time": "2023-06-28T21:09:27.274535Z",
     "start_time": "2023-06-28T21:09:27.267845Z"
    }
   },
   "outputs": [
    {
     "data": {
      "text/plain": "xso.component.SizebasedGrazingKernel_Dims"
     },
     "execution_count": 3,
     "metadata": {},
     "output_type": "execute_result"
    }
   ],
   "source": [
    "SizebasedGrazingKernel_Dims"
   ]
  },
  {
   "cell_type": "code",
   "execution_count": 4,
   "id": "4b612bf6-428a-4148-a84e-4f44d1898f64",
   "metadata": {
    "ExecuteTime": {
     "end_time": "2023-06-28T21:09:32.344440Z",
     "start_time": "2023-06-28T21:09:32.338773Z"
    }
   },
   "outputs": [
    {
     "name": "stdout",
     "output_type": "stream",
     "text": [
      "HELLO\n"
     ]
    }
   ],
   "source": [
    "print(\"HELLO\")"
   ]
  },
  {
   "cell_type": "code",
   "execution_count": null,
   "outputs": [],
   "source": [],
   "metadata": {
    "collapsed": false
   }
  }
 ],
 "metadata": {
  "kernelspec": {
   "display_name": "Python 3 (ipykernel)",
   "language": "python",
   "name": "python3"
  },
  "language_info": {
   "codemirror_mode": {
    "name": "ipython",
    "version": 3
   },
   "file_extension": ".py",
   "mimetype": "text/x-python",
   "name": "python",
   "nbconvert_exporter": "python",
   "pygments_lexer": "ipython3",
   "version": "3.10.6"
  }
 },
 "nbformat": 4,
 "nbformat_minor": 5
}
