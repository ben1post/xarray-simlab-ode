{
 "cells": [
  {
   "cell_type": "code",
   "execution_count": null,
   "id": "df60b279-af63-46e3-a0a8-96de91dd49cc",
   "metadata": {},
   "outputs": [],
   "source": []
  },
  {
   "cell_type": "markdown",
   "id": "0713beba-4ca1-422a-bacc-97cbb0a40591",
   "metadata": {},
   "source": [
    "# Major notes and ideas:\n",
    "\n",
    "- make unecessery model diagnostics or computed values as on_demand variables instead, this improves efficiency (if they do not have to be calculated at every step)\n",
    "\n",
    "- add index variable functionality! but how?\n",
    "\n",
    "-"
   ]
  },
  {
   "cell_type": "markdown",
   "id": "9d1f5dcb-bad8-42ba-a04b-ee334213edef",
   "metadata": {},
   "source": [
    "hm... now, where to start?\n",
    "\n",
    "build \"test\" xso components, then go through backend and modify, whilst testing basic functionality"
   ]
  },
  {
   "cell_type": "code",
   "execution_count": 1,
   "id": "e9abf0ea-1248-4394-b522-97fb40cb5b18",
   "metadata": {},
   "outputs": [],
   "source": [
    "import xso"
   ]
  },
  {
   "cell_type": "code",
   "execution_count": 2,
   "id": "21d8b364-671a-4415-80e3-c2c65ca51779",
   "metadata": {},
   "outputs": [],
   "source": [
    "@xso.component\n",
    "class Variable:\n",
    "    var = xso.variable(description='basic state variable')\n",
    "    \n",
    "@xso.component\n",
    "class Variable_with_dims:\n",
    "    var = xso.variable(dims='var', description='basic state variable')\n",
    "    \n",
    "@xso.component\n",
    "class Flux:\n",
    "    \"\"\" basic flux process for testing \n",
    "    represents linear growth of a foreign variable\n",
    "    \"\"\"\n",
    "    var = xso.variable(foreign=True, flux='growth', \n",
    "                       negative=False, description='variable affected by flux',\n",
    "                      dims=[(),('var')])\n",
    "    rate = xso.parameter(description='linear rate of change',\n",
    "                      dims=[(),('var')])\n",
    "\n",
    "    @xso.flux(dims=[(),('var')], description='hello')\n",
    "    def growth(self, var, rate):\n",
    "        \"\"\" \"\"\"\n",
    "        return var * rate"
   ]
  },
  {
   "cell_type": "code",
   "execution_count": null,
   "id": "a3b6fdd6-9329-493a-966e-46a1ce5db50b",
   "metadata": {},
   "outputs": [],
   "source": []
  },
  {
   "cell_type": "code",
   "execution_count": 3,
   "id": "2f436937-6702-48fa-84e8-32cfa4d2505c",
   "metadata": {},
   "outputs": [],
   "source": [
    "MODEL = xso.create({\"Var\":Variable, \"VarDims\":Variable_with_dims, \"Flux\":Flux, \"Flux_dims\":Flux})"
   ]
  },
  {
   "cell_type": "code",
   "execution_count": 4,
   "id": "38e80764-fd69-47ae-9e3a-36a099c0f38e",
   "metadata": {},
   "outputs": [
    {
     "data": {
      "text/plain": [
       "<xsimlab.Model (7 processes, 10 inputs)>\n",
       "Core\n",
       "    solver_type     [in]\n",
       "Time\n",
       "    time            [in] ('input_time',) sequence of time points fo...\n",
       "Var\n",
       "    var_label       [in] label / basic state variable\n",
       "    var_init        [in] initial value / basic state variable\n",
       "VarDims\n",
       "    var_label       [in] label / basic state variable\n",
       "    var_init        [in] ('var',) initial value / basic state variable\n",
       "Flux\n",
       "    var             [in] label reference / variable affected by flux\n",
       "    rate            [in] () or ('var',) linear rate of change\n",
       "Flux_dims\n",
       "    var             [in] label reference / variable affected by flux\n",
       "    rate            [in] () or ('var',) linear rate of change\n",
       "Solver"
      ]
     },
     "execution_count": 4,
     "metadata": {},
     "output_type": "execute_result"
    }
   ],
   "source": [
    "MODEL"
   ]
  },
  {
   "cell_type": "code",
   "execution_count": 5,
   "id": "9a6d0df4-d6f0-4bb2-83e5-b08a624903bf",
   "metadata": {},
   "outputs": [],
   "source": [
    "import numpy as np\n",
    "\n",
    "SETUP = xso.setup(solver='odeint', model=MODEL,\n",
    "            time=np.arange(0,5),\n",
    "            input_vars={'Var':{'var_label':'A', 'var_init':1.},\n",
    "                        'VarDims':{'var_label':'B', 'var_init':[1.,2.]},\n",
    "                        'Flux':{'var':'A', 'rate':1.},\n",
    "                        'Flux_dims':{'var':'B', 'rate':[1.,0.5]},\n",
    "                       }\n",
    "         )"
   ]
  },
  {
   "cell_type": "code",
   "execution_count": 6,
   "id": "4862ea27-ed4c-4b48-b0fd-fb0a21507971",
   "metadata": {},
   "outputs": [
    {
     "name": "stdout",
     "output_type": "stream",
     "text": [
      "initializing model backend\n",
      "Initializing Model Time\n",
      "Initializing component Var\n",
      "Initializing component VarDims\n",
      "Initializing component Flux\n",
      "Initializing component Flux_dims\n",
      "assembling model\n",
      "SOLVER : <xso.solvers.ODEINTSolver object at 0x1579fd7f0>\n",
      "Model is assembled:\n",
      "Model contains: \n",
      "Variables:['time', 'A', 'B'] \n",
      "Parameters:['Flux_rate', 'Flux_dims_rate'] \n",
      "Forcings:[] \n",
      "Fluxes:['Time_time_flux', 'Flux_growth', 'Flux_dims_growth'] \n",
      "Full Model Dimensions:[('time', None), ('A', None), ('B', 2), ('Time_time_flux', None), ('Flux_growth', None), ('Flux_dims_growth', 2)] \n",
      "\n",
      "finalizing: cleanup\n",
      "Model was solved in 0.01632 seconds\n"
     ]
    }
   ],
   "source": [
    "with MODEL:\n",
    "    OUTPUT = SETUP.xsimlab.run()"
   ]
  },
  {
   "cell_type": "code",
   "execution_count": 7,
   "id": "2f72bff4-8deb-4eee-919c-7de900b6ad75",
   "metadata": {},
   "outputs": [
    {
     "data": {
      "text/plain": [
       "[<matplotlib.lines.Line2D at 0x159265370>]"
      ]
     },
     "execution_count": 7,
     "metadata": {},
     "output_type": "execute_result"
    },
    {
     "data": {
      "image/png": "[encoded data removed]",
      "text/plain": [
       "<Figure size 640x480 with 1 Axes>"
      ]
     },
     "metadata": {},
     "output_type": "display_data"
    }
   ],
   "source": [
    "OUTPUT.VarDims__var_value[0].plot()\n",
    "OUTPUT.VarDims__var_value[1].plot()"
   ]
  },
  {
   "cell_type": "code",
   "execution_count": null,
   "id": "5df2f1ac-52b1-4656-af02-416bf99fd039",
   "metadata": {},
   "outputs": [],
   "source": []
  },
  {
   "cell_type": "code",
   "execution_count": null,
   "id": "67eedc69-8b0c-4911-9971-a4f9cd36b847",
   "metadata": {},
   "outputs": [],
   "source": []
  }
 ],
 "metadata": {
  "kernelspec": {
   "display_name": "Python 3 (ipykernel)",
   "language": "python",
   "name": "python3"
  },
  "language_info": {
   "codemirror_mode": {
    "name": "ipython",
    "version": 3
   },
   "file_extension": ".py",
   "mimetype": "text/x-python",
   "name": "python",
   "nbconvert_exporter": "python",
   "pygments_lexer": "ipython3",
   "version": "3.9.13"
  }
 },
 "nbformat": 4,
 "nbformat_minor": 5
}
