{
 "cells": [
  {
   "cell_type": "markdown",
   "source": [
    "# Example usage\n",
    "\n",
    "You can try `xarray_simlab_ode` by running the model presented in the Readme file."
   ],
   "metadata": {}
  },
  {
   "cell_type": "code",
   "execution_count": null,
   "source": [
    "import xso\n",
    "\n",
    "import numpy as np\n",
    "import matplotlib.pyplot as plt"
   ],
   "outputs": [],
   "metadata": {
    "is_executing": true
   }
  },
  {
   "cell_type": "code",
   "execution_count": null,
   "outputs": [],
   "source": [
    "@xso.component\n",
    "class Variable:\n",
    "    value = xso.variable(description='basic state variable', attrs={'units':'µM'})"
   ],
   "metadata": {
    "collapsed": false
   }
  },
  {
   "cell_type": "code",
   "execution_count": null,
   "outputs": [],
   "source": [
    "@xso.component\n",
    "class LinearGrowth:\n",
    "    var_ext = xso.variable(foreign=True, flux='growth', description='external state variable')\n",
    "    rate = xso.parameter(description='linear growth rate', attrs={'units':'$d^{-1}$'})\n",
    "\n",
    "    @xso.flux\n",
    "    def growth(self, var_ext, rate):\n",
    "        return var_ext * rate"
   ],
   "metadata": {
    "collapsed": false
   }
  },
  {
   "cell_type": "code",
   "execution_count": null,
   "outputs": [],
   "source": [
    "model = xso.create({'Var':Variable,'Growth':LinearGrowth}, time_unit='d')"
   ],
   "metadata": {
    "collapsed": false
   }
  },
  {
   "cell_type": "code",
   "execution_count": null,
   "outputs": [],
   "source": [
    "print(model)"
   ],
   "metadata": {
    "collapsed": false
   }
  },
  {
   "cell_type": "code",
   "execution_count": null,
   "outputs": [],
   "source": [
    "input_ds = xso.setup(solver='solve_ivp',\n",
    "                     model=model,\n",
    "                     time=np.arange(1,10,.1),\n",
    "                     input_vars={\n",
    "                         'Var':{'value_label':'X', 'value_init':1},\n",
    "                         'Growth':{'var_ext':'X', 'rate':1.},\n",
    "                     })"
   ],
   "metadata": {
    "collapsed": false
   }
  },
  {
   "cell_type": "code",
   "execution_count": null,
   "outputs": [],
   "source": [
    "with model:\n",
    "    output_ds = input_ds.xsimlab.run()"
   ],
   "metadata": {
    "collapsed": false
   }
  },
  {
   "cell_type": "code",
   "execution_count": null,
   "outputs": [],
   "source": [
    "output_ds"
   ],
   "metadata": {
    "collapsed": false
   }
  },
  {
   "cell_type": "code",
   "execution_count": null,
   "outputs": [],
   "source": [
    "output_ds.Var__value.plot()"
   ],
   "metadata": {
    "collapsed": false
   }
  },
  {
   "cell_type": "code",
   "execution_count": null,
   "outputs": [],
   "source": [
    "with model:\n",
    "    batchout_ds = (input_ds\n",
    "     .xsimlab.update_vars(\n",
    "         input_vars={'Growth': {'rate': ('batch', [0.9, 1.0, 1.1, 1.2])}}\n",
    "     )\n",
    "     .xsimlab.run(parallel=True, batch_dim='batch')\n",
    "     .swap_dims({'batch':'Growth__rate'})\n",
    "     .Var__value.plot.line(x='time')\n",
    "     )"
   ],
   "metadata": {
    "collapsed": false
   }
  }
 ],
 "metadata": {
  "kernelspec": {
   "display_name": "Python 3",
   "language": "python",
   "name": "python3"
  },
  "language_info": {
   "codemirror_mode": {
    "name": "ipython",
    "version": 3
   },
   "file_extension": ".py",
   "mimetype": "text/x-python",
   "name": "python",
   "nbconvert_exporter": "python",
   "pygments_lexer": "ipython3",
   "version": "3.8.5"
  }
 },
 "nbformat": 4,
 "nbformat_minor": 4
}
